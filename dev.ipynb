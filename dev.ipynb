{
 "cells": [
  {
   "cell_type": "code",
   "execution_count": 10,
   "id": "04e7ae60-8275-4a74-b67b-d1d1bde8f717",
   "metadata": {},
   "outputs": [],
   "source": [
    "import numpy as np\n",
    "\n",
    "# do both brew install and pip install\n",
    "from graphviz import Digraph"
   ]
  },
  {
   "cell_type": "code",
   "execution_count": 7,
   "id": "4aee4810-bda1-41d9-9569-81851c37f273",
   "metadata": {},
   "outputs": [],
   "source": [
    "class Value(object):\n",
    "    def __init__(self, data, _children=(), _op=''):\n",
    "        self.data = data\n",
    "        # set for efficiency?\n",
    "        # _underscore because internal\n",
    "        # children are the things combined to make this thing\n",
    "        self._prev = set(_children)\n",
    "        self._op = _op\n",
    "\n",
    "    def __repr__(self):\n",
    "        return f\"Value(data={self.data})\"\n",
    "\n",
    "    def __add__(self, other):\n",
    "        out = Value(self.data + other.data, (self, other), '+')\n",
    "        return out\n",
    "\n",
    "    def __mul__(self, other):\n",
    "        out = Value(self.data * other.data, (self, other), '*')\n",
    "        return out\n",
    "\n",
    "    def __sub__(self, other):\n",
    "        out = Value(self.data - other.data, (self, other), '-')\n",
    "        return out\n",
    "\n",
    "\n"
   ]
  },
  {
   "cell_type": "code",
   "execution_count": 26,
   "id": "9674e5c8-32ec-45bd-b41c-dbb6a0eb43df",
   "metadata": {},
   "outputs": [],
   "source": [
    "# get all nodes and edges\n",
    "def trace(out):\n",
    "    nodes, edges = set(), set()\n",
    "\n",
    "    # define a recursive function\n",
    "    def build(v):\n",
    "        if v not in nodes:\n",
    "            nodes.add(v)\n",
    "            for child in v._prev:\n",
    "                edges.add((child, v)) # edge is a tuple\n",
    "                build(child)\n",
    "    build(out)\n",
    "    return nodes, edges\n",
    "\n",
    "\n",
    "def draw(out):\n",
    "    nodes, edges = trace(out)\n",
    "\n",
    "    graph = Digraph(format='svg')\n",
    "\n",
    "    for n in nodes:\n",
    "        graph.node(name=str(id(n)), label = \"{ data %.4f | grad tbd }\" % (n.data), shape='record')\n",
    "\n",
    "        if n._op:\n",
    "            graph.node(name=str(id(n))+n._op, label = n._op)\n",
    "            graph.edge(str(id(n))+n._op, str(id(n)))\n",
    "\n",
    "    for n1, n2 in edges:\n",
    "        graph.edge(str(id(n1)), str(id(n2))+n2._op)\n",
    "\n",
    "    return graph"
   ]
  },
  {
   "cell_type": "code",
   "execution_count": 27,
   "id": "f4112ff7-0f31-4e58-8114-c101b8960240",
   "metadata": {},
   "outputs": [
    {
     "name": "stdout",
     "output_type": "stream",
     "text": [
      "Value(data=-1.0)\n"
     ]
    }
   ],
   "source": [
    "a = Value(2.0)\n",
    "b = Value(3.0)\n",
    "c = a + b\n",
    "\n",
    "print(c)"
   ]
  },
  {
   "cell_type": "code",
   "execution_count": 28,
   "id": "7c7d06e0-a67b-43b1-bf0e-59a78ba72df8",
   "metadata": {},
   "outputs": [
    {
     "ename": "AttributeError",
     "evalue": "'Value' object has no attribute '_op'",
     "output_type": "error",
     "traceback": [
      "\u001b[0;31m---------------------------------------------------------------------------\u001b[0m",
      "\u001b[0;31mAttributeError\u001b[0m                            Traceback (most recent call last)",
      "Cell \u001b[0;32mIn[28], line 1\u001b[0m\n\u001b[0;32m----> 1\u001b[0m \u001b[43mdraw\u001b[49m\u001b[43m(\u001b[49m\u001b[43mc\u001b[49m\u001b[43m)\u001b[49m\n",
      "Cell \u001b[0;32mIn[26], line 24\u001b[0m, in \u001b[0;36mdraw\u001b[0;34m(out)\u001b[0m\n\u001b[1;32m     21\u001b[0m \u001b[38;5;28;01mfor\u001b[39;00m n \u001b[38;5;129;01min\u001b[39;00m nodes:\n\u001b[1;32m     22\u001b[0m     graph\u001b[38;5;241m.\u001b[39mnode(name\u001b[38;5;241m=\u001b[39m\u001b[38;5;28mstr\u001b[39m(\u001b[38;5;28mid\u001b[39m(n)), label \u001b[38;5;241m=\u001b[39m \u001b[38;5;124m\"\u001b[39m\u001b[38;5;124m{\u001b[39m\u001b[38;5;124m data \u001b[39m\u001b[38;5;132;01m%.4f\u001b[39;00m\u001b[38;5;124m | grad tbd }\u001b[39m\u001b[38;5;124m\"\u001b[39m \u001b[38;5;241m%\u001b[39m (n\u001b[38;5;241m.\u001b[39mdata), shape\u001b[38;5;241m=\u001b[39m\u001b[38;5;124m'\u001b[39m\u001b[38;5;124mrecord\u001b[39m\u001b[38;5;124m'\u001b[39m)\n\u001b[0;32m---> 24\u001b[0m     \u001b[38;5;28;01mif\u001b[39;00m \u001b[43mn\u001b[49m\u001b[38;5;241;43m.\u001b[39;49m\u001b[43m_op\u001b[49m:\n\u001b[1;32m     25\u001b[0m         graph\u001b[38;5;241m.\u001b[39mnode(name\u001b[38;5;241m=\u001b[39m\u001b[38;5;28mstr\u001b[39m(\u001b[38;5;28mid\u001b[39m(n))\u001b[38;5;241m+\u001b[39mn\u001b[38;5;241m.\u001b[39m_op, label \u001b[38;5;241m=\u001b[39m n\u001b[38;5;241m.\u001b[39m_op)\n\u001b[1;32m     26\u001b[0m         graph\u001b[38;5;241m.\u001b[39medge(\u001b[38;5;28mstr\u001b[39m(\u001b[38;5;28mid\u001b[39m(n))\u001b[38;5;241m+\u001b[39mn\u001b[38;5;241m.\u001b[39m_op, \u001b[38;5;28mstr\u001b[39m(\u001b[38;5;28mid\u001b[39m(n)))\n",
      "\u001b[0;31mAttributeError\u001b[0m: 'Value' object has no attribute '_op'"
     ]
    }
   ],
   "source": [
    "draw(c)"
   ]
  },
  {
   "cell_type": "code",
   "execution_count": null,
   "id": "37cb55ac-ced3-4474-81ff-afbc9fc917d4",
   "metadata": {},
   "outputs": [],
   "source": []
  }
 ],
 "metadata": {
  "kernelspec": {
   "display_name": "Python 3 (ipykernel)",
   "language": "python",
   "name": "python3"
  },
  "language_info": {
   "codemirror_mode": {
    "name": "ipython",
    "version": 3
   },
   "file_extension": ".py",
   "mimetype": "text/x-python",
   "name": "python",
   "nbconvert_exporter": "python",
   "pygments_lexer": "ipython3",
   "version": "3.11.3"
  }
 },
 "nbformat": 4,
 "nbformat_minor": 5
}
