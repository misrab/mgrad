{
 "cells": [
  {
   "cell_type": "code",
   "execution_count": 25,
   "id": "04e7ae60-8275-4a74-b67b-d1d1bde8f717",
   "metadata": {},
   "outputs": [],
   "source": [
    "from backprop.core import Value\n",
    "\n",
    "# the goal here is to provide a library \n",
    "# similar to torch's https://pytorch.org/docs/stable/generated/torch.nn.Module.html#torch.nn.Module\n",
    "\n",
    "\n",
    "class Module(object):\n",
    "    def zero_grad(self):\n",
    "        for p in self.parameters():\n",
    "            p.grad = 0\n",
    "\n",
    "    def parameters(self):\n",
    "        return []\n",
    "\n",
    "\n",
    "class Neuron(Module):\n",
    "    def __init__(self):\n",
    "        return\n",
    "\n",
    "    def __call__(self, x):\n",
    "        return\n",
    "\n",
    "    def parameters(self):\n",
    "        return []\n",
    "\n",
    "    def __repr__(self):\n",
    "        return f\"\"\n",
    "\n",
    "\n",
    "class Layer(Module):\n",
    "    def __init__(self):\n",
    "        return\n",
    "\n",
    "    def __call__(self, x):\n",
    "        return\n",
    "\n",
    "    def parameters(self):\n",
    "        return []\n",
    "\n",
    "    def __repr__(self):\n",
    "        return f\"\"\n",
    "\n",
    "class MLP(Module):\n",
    "    def __init__(self):\n",
    "        return\n",
    "\n",
    "    def __call__(self, x):\n",
    "        return\n",
    "\n",
    "    def parameters(self):\n",
    "        return []\n",
    "\n",
    "    def __repr__(self):\n",
    "        return f\"\"\n",
    "    "
   ]
  },
  {
   "cell_type": "code",
   "execution_count": null,
   "id": "43be5f6d-6dbd-48fc-9091-d15c7e0a69a0",
   "metadata": {},
   "outputs": [],
   "source": []
  }
 ],
 "metadata": {
  "kernelspec": {
   "display_name": "Python 3 (ipykernel)",
   "language": "python",
   "name": "python3"
  },
  "language_info": {
   "codemirror_mode": {
    "name": "ipython",
    "version": 3
   },
   "file_extension": ".py",
   "mimetype": "text/x-python",
   "name": "python",
   "nbconvert_exporter": "python",
   "pygments_lexer": "ipython3",
   "version": "3.11.3"
  }
 },
 "nbformat": 4,
 "nbformat_minor": 5
}
